{
 "cells": [
  {
   "cell_type": "code",
   "execution_count": 1,
   "metadata": {},
   "outputs": [],
   "source": [
    "%load_ext autoreload\n",
    "%autoreload 2"
   ]
  },
  {
   "cell_type": "code",
   "execution_count": 2,
   "metadata": {},
   "outputs": [],
   "source": [
    "import silkscreen\n",
    "import numpy as np\n",
    "import torch\n",
    "import artpop\n",
    "import matplotlib.pyplot as plt\n",
    "import mpire\n",
    "import tqdm"
   ]
  },
  {
   "cell_type": "code",
   "execution_count": 3,
   "metadata": {},
   "outputs": [],
   "source": [
    "x = torch.ones( (500,3,50,50) )"
   ]
  },
  {
   "cell_type": "code",
   "execution_count": 5,
   "metadata": {},
   "outputs": [
    {
     "data": {
      "text/plain": [
       "torch.Size([300, 3, 50, 50])"
      ]
     },
     "execution_count": 5,
     "metadata": {},
     "output_type": "execute_result"
    }
   ],
   "source": [
    "x[200:].shape"
   ]
  },
  {
   "cell_type": "code",
   "execution_count": 3,
   "metadata": {},
   "outputs": [],
   "source": [
    "# Build observation class\n",
    "psf = artpop.psf.moffat_psf(0.7)\n",
    "iso_kwargs = dict(mag_limit=26, mag_limit_band='hsc_g')\n",
    "\n",
    "obs = silkscreen.SilkScreenObservation(data = np.ones((2,151,151)), imager = 'HSC', filters = ['hsc_g','hsc_r'],\n",
    "exp_time = 1000, pixel_scale = 0.262, zpt = 25, psf = psf, distribution= 'plummer', distribution_kwargs={'scale_radius_as': 10}, iso_kwargs=iso_kwargs)\n",
    "prior = silkscreen.priors.get_SSP_prior([4.,6.],[3.,4.],[-1.,-0.6],[5.,10.])"
   ]
  },
  {
   "cell_type": "code",
   "execution_count": 4,
   "metadata": {},
   "outputs": [],
   "source": [
    "#Initiate Simmer class, can take ~20s\n",
    "sim_test = silkscreen.SSPSimmer(obs)"
   ]
  },
  {
   "cell_type": "code",
   "execution_count": 5,
   "metadata": {},
   "outputs": [],
   "source": [
    "def run_sims(sim_func, proposal, num, samp_kwargs = {}) -> torch.Tensor:\n",
    "    theta = proposal.sample((num,), **samp_kwargs)# Always need on cpu\n",
    "    x = []\n",
    "    for theta_cur in tqdm.tqdm(theta):\n",
    "        x.append(sim_func(theta_cur))\n",
    "    x = torch.stack(x)\n",
    "    return theta,x"
   ]
  },
  {
   "cell_type": "code",
   "execution_count": 41,
   "metadata": {},
   "outputs": [],
   "source": [
    "def run_sims_mpire(sim_func, proposal, num, n_jobs = 4, samp_kwargs = {}) -> torch.Tensor:\n",
    "    theta = proposal.sample((num,), **samp_kwargs).to('cpu')# Always need on cpu\n",
    "    to_mpire = lambda *x: sim_func(torch.stack(x))\n",
    "    with mpire.WorkerPool(n_jobs=n_jobs) as pool:\n",
    "        x = pool.map(to_mpire, theta, progress_bar = True)\n",
    "    x = torch.stack(x)\n",
    "    return theta,x"
   ]
  },
  {
   "cell_type": "code",
   "execution_count": 1,
   "metadata": {},
   "outputs": [
    {
     "name": "stdout",
     "output_type": "stream",
     "text": [
      "0\n"
     ]
    }
   ],
   "source": [
    "r = 5_000\n",
    "max_append = 10_000\n",
    "num_r_append = int(r/max_append)\n",
    "\n",
    "if num_r_append == 0:\n",
    "    print ('0')\n",
    "else:\n",
    "    for r_append in range(num_r_append):\n",
    "        print (r_append*max_append, (r_append+1)*max_append)\n",
    "    if r%max_append != 0:\n",
    "        print ( (r_append+1)*max_append )"
   ]
  },
  {
   "cell_type": "code",
   "execution_count": 54,
   "metadata": {},
   "outputs": [
    {
     "data": {
      "text/plain": [
       "0"
      ]
     },
     "execution_count": 54,
     "metadata": {},
     "output_type": "execute_result"
    }
   ],
   "source": [
    "int( r / max_append )"
   ]
  },
  {
   "cell_type": "code",
   "execution_count": 45,
   "metadata": {},
   "outputs": [
    {
     "name": "stderr",
     "output_type": "stream",
     "text": [
      "100%|██████████| 50/50 [00:02<00:00, 18.84it/s]\n"
     ]
    },
    {
     "data": {
      "text/plain": [
       "(array([[ 5.10386086,  3.46368861, -0.90609574,  5.36147213],\n",
       "        [ 4.66891241,  3.49714947, -0.83998573,  6.66175652],\n",
       "        [ 4.11349297,  3.32583451, -0.78952539,  9.3878212 ],\n",
       "        [ 4.64927673,  3.69624519, -0.83660507,  9.25022411],\n",
       "        [ 4.58917999,  3.54203248, -0.90172875,  8.21083546],\n",
       "        [ 4.55861759,  3.7029438 , -0.84330297,  9.73834991],\n",
       "        [ 4.7700119 ,  3.88045835, -0.98740906,  7.9764986 ],\n",
       "        [ 5.82642651,  3.98928118, -0.68697178,  8.1631279 ],\n",
       "        [ 4.1368475 ,  3.81877613, -0.85135019,  8.38022804],\n",
       "        [ 5.95139122,  3.75671887, -0.90511757,  6.1119175 ],\n",
       "        [ 4.8966403 ,  3.26250672, -0.86656165,  9.55821609],\n",
       "        [ 5.02412033,  3.14842772, -0.85111606,  6.03100014],\n",
       "        [ 5.95892811,  3.71916318, -0.62486601,  9.96810722],\n",
       "        [ 5.62547493,  3.50508738, -0.93094319,  6.79924345],\n",
       "        [ 4.96610022,  3.290802  , -0.93329942,  5.78201294],\n",
       "        [ 4.55688477,  3.76187706, -0.70699066,  9.62108707],\n",
       "        [ 4.57825756,  3.70267773, -0.67614007,  7.13614798],\n",
       "        [ 4.14622116,  3.27927351, -0.64228535,  5.43372202],\n",
       "        [ 4.43825626,  3.69728565, -0.74346578,  5.7381444 ],\n",
       "        [ 5.22738838,  3.74827385, -0.69749761,  9.33461094],\n",
       "        [ 4.59742928,  3.99099588, -0.91746473,  5.31759214],\n",
       "        [ 5.30658722,  3.31886458, -0.78104353,  9.05123329],\n",
       "        [ 4.50306702,  3.41478205, -0.61180758,  8.01246929],\n",
       "        [ 5.10137272,  3.07115269, -0.66460443,  9.36155319],\n",
       "        [ 4.8949461 ,  3.78545094, -0.85859197,  6.48460817],\n",
       "        [ 4.08684063,  3.37859273, -0.65127289,  9.74067497],\n",
       "        [ 5.06119919,  3.82624316, -0.95539856,  9.42195129],\n",
       "        [ 5.54670811,  3.97601318, -0.64479035,  7.62226582],\n",
       "        [ 4.17188311,  3.41886806, -0.96386522,  8.29929447],\n",
       "        [ 4.84339237,  3.05827737, -0.91081887,  5.28531647],\n",
       "        [ 5.17807388,  3.40699887, -0.76315379,  9.33637238],\n",
       "        [ 4.26087761,  3.08118153, -0.891904  ,  6.27629375],\n",
       "        [ 4.75381899,  3.03010201, -0.75752908,  5.41429663],\n",
       "        [ 4.58120394,  3.18908501, -0.60978651,  8.44053841],\n",
       "        [ 5.33858585,  3.05783057, -0.85634601,  7.60398149],\n",
       "        [ 4.79336405,  3.38149595, -0.65988111,  8.03761482],\n",
       "        [ 4.97153854,  3.95337296, -0.80504739,  8.13742352],\n",
       "        [ 5.92601156,  3.49571991, -0.74818206,  9.51859951],\n",
       "        [ 4.23017263,  3.54740977, -0.80045378,  6.5424633 ],\n",
       "        [ 4.15703201,  3.99730659, -0.83837414,  9.6715641 ],\n",
       "        [ 5.27927303,  3.10456443, -0.98780787,  5.3566308 ],\n",
       "        [ 5.24545383,  3.14394689, -0.83664232,  7.27738571],\n",
       "        [ 5.85333729,  3.72107911, -0.94937468,  6.47715044],\n",
       "        [ 4.17142248,  3.04698539, -0.92047828,  8.88904858],\n",
       "        [ 4.64021206,  3.15880632, -0.79445219,  6.9575429 ],\n",
       "        [ 5.61350536,  3.29625988, -0.62884116,  8.33003712],\n",
       "        [ 5.0939827 ,  3.48394251, -0.66449618,  8.78042507],\n",
       "        [ 5.41682243,  3.28210115, -0.92715144,  8.1237402 ],\n",
       "        [ 4.62438774,  3.46616292, -0.66070372,  6.97467041],\n",
       "        [ 4.35784769,  3.85019994, -0.88886309,  7.48487711]]),\n",
       " tensor([[[[-9.0729e-03, -2.7314e-04,  7.8442e-03,  ..., -7.9109e-04,\n",
       "             2.4306e-03, -2.5481e-03],\n",
       "           [ 8.5216e-03,  6.1045e-03,  8.7450e-04,  ..., -2.6754e-03,\n",
       "             1.1955e-03,  2.9918e-03],\n",
       "           [ 4.5973e-04, -2.6661e-03,  1.6152e-02,  ..., -2.0143e-03,\n",
       "            -1.0932e-02,  3.1861e-03],\n",
       "           ...,\n",
       "           [-5.3771e-04, -8.0998e-03,  2.0879e-03,  ..., -4.2973e-03,\n",
       "            -8.2765e-03, -2.6216e-04],\n",
       "           [ 1.0414e-03, -2.6668e-03,  5.7229e-03,  ...,  2.5738e-03,\n",
       "            -3.4417e-03,  1.8062e-04],\n",
       "           [-5.4080e-03,  4.7115e-03, -5.0876e-03,  ...,  3.2708e-03,\n",
       "            -3.4690e-04,  2.9950e-03]],\n",
       " \n",
       "          [[ 2.9106e-03,  3.7837e-03,  2.3468e-04,  ...,  1.8652e-03,\n",
       "             3.0671e-03,  4.3738e-03],\n",
       "           [ 1.4439e-03, -1.2311e-03, -8.9937e-03,  ...,  9.2524e-03,\n",
       "             7.2513e-03,  5.1031e-03],\n",
       "           [ 2.4089e-03,  1.7453e-03,  4.7692e-03,  ..., -8.1520e-03,\n",
       "            -1.4625e-02, -5.8615e-03],\n",
       "           ...,\n",
       "           [ 3.2045e-03, -3.8981e-03, -1.7671e-02,  ...,  9.4416e-03,\n",
       "            -3.2568e-03, -5.8550e-04],\n",
       "           [-6.0996e-03, -1.0248e-03, -1.0255e-02,  ..., -9.6699e-04,\n",
       "             6.8052e-03,  1.7339e-02],\n",
       "           [ 1.2767e-02, -3.9578e-03, -6.1014e-03,  ...,  1.0753e-03,\n",
       "             5.3097e-03, -9.1526e-03]]],\n",
       " \n",
       " \n",
       "         [[[ 7.0264e-04, -8.7020e-03,  7.0499e-04,  ...,  1.4456e-03,\n",
       "            -7.0327e-03, -1.5089e-03],\n",
       "           [ 2.5545e-03,  1.3274e-03, -2.8536e-03,  ...,  2.2873e-03,\n",
       "             2.6962e-03,  6.7112e-03],\n",
       "           [ 6.3991e-03, -6.1476e-03, -6.6381e-03,  ..., -2.1851e-04,\n",
       "             3.9724e-03,  2.9809e-03],\n",
       "           ...,\n",
       "           [ 4.3167e-03, -1.4012e-03, -2.3828e-03,  ...,  1.2579e-02,\n",
       "             1.6297e-03,  9.7546e-03],\n",
       "           [ 3.7291e-04,  2.5477e-03, -3.7622e-03,  ...,  2.1837e-03,\n",
       "            -3.6654e-03,  7.7167e-03],\n",
       "           [-3.7805e-03, -8.4668e-03,  8.1898e-03,  ...,  1.0207e-02,\n",
       "             3.3349e-03, -1.1536e-02]],\n",
       " \n",
       "          [[ 5.2257e-03,  1.4864e-03, -5.2059e-03,  ..., -1.9249e-03,\n",
       "             1.2143e-03,  4.8647e-03],\n",
       "           [ 2.7041e-03, -3.3767e-03,  8.4247e-03,  ..., -3.1514e-03,\n",
       "             6.7730e-04,  9.4214e-03],\n",
       "           [-8.1308e-04, -6.0632e-03,  7.2402e-03,  ..., -7.4594e-03,\n",
       "             1.7332e-03, -1.1938e-02],\n",
       "           ...,\n",
       "           [ 6.1351e-03, -1.4160e-03,  2.7892e-03,  ...,  1.8612e-03,\n",
       "            -2.9672e-03,  1.8433e-03],\n",
       "           [-1.0111e-03,  6.0784e-03,  1.2049e-03,  ...,  2.3900e-03,\n",
       "            -3.6895e-03, -1.2152e-02],\n",
       "           [ 5.7373e-03, -1.3143e-03, -2.0063e-03,  ...,  1.1574e-02,\n",
       "            -1.1446e-03, -1.0676e-03]]],\n",
       " \n",
       " \n",
       "         [[[ 1.5665e-02,  9.6996e-04, -6.5511e-03,  ...,  7.3893e-03,\n",
       "            -5.9382e-03, -5.4054e-03],\n",
       "           [-7.7291e-03,  4.8313e-03,  7.4576e-03,  ...,  1.0315e-03,\n",
       "            -1.2270e-02,  4.2423e-03],\n",
       "           [ 1.3335e-03, -4.1348e-03, -1.2901e-02,  ...,  6.0433e-03,\n",
       "             5.3321e-03, -3.4325e-03],\n",
       "           ...,\n",
       "           [ 4.8330e-03, -6.6351e-04, -2.9225e-03,  ..., -9.8385e-03,\n",
       "             4.0100e-03, -2.7510e-04],\n",
       "           [ 2.9988e-03,  1.7586e-03, -1.0992e-02,  ..., -8.9365e-03,\n",
       "            -3.4956e-03,  3.6331e-03],\n",
       "           [ 3.7870e-03, -3.0514e-03,  2.7267e-03,  ...,  1.3160e-03,\n",
       "             1.7608e-02, -1.8722e-03]],\n",
       " \n",
       "          [[ 2.4175e-03,  1.3925e-03,  2.6664e-03,  ..., -4.2122e-03,\n",
       "            -2.1336e-04,  2.6425e-03],\n",
       "           [-4.8348e-03,  2.9517e-03, -1.2129e-02,  ..., -4.2067e-03,\n",
       "             2.5075e-03,  1.3103e-03],\n",
       "           [ 1.9427e-03, -6.7692e-03,  2.4768e-03,  ..., -4.0587e-03,\n",
       "             6.2063e-03, -3.6188e-03],\n",
       "           ...,\n",
       "           [-1.3679e-02, -5.9467e-03,  2.2470e-04,  ...,  7.4113e-03,\n",
       "             7.7451e-04,  1.0187e-02],\n",
       "           [-6.5975e-03,  2.6081e-03, -3.4608e-03,  ...,  1.1979e-02,\n",
       "            -1.6332e-03, -3.0409e-03],\n",
       "           [ 3.8953e-03, -8.5601e-03, -3.2192e-03,  ...,  2.7723e-03,\n",
       "             2.0249e-03,  5.9553e-03]]],\n",
       " \n",
       " \n",
       "         ...,\n",
       " \n",
       " \n",
       "         [[[-7.5151e-05,  3.0415e-03,  3.3166e-03,  ...,  2.9562e-03,\n",
       "             3.1218e-05, -1.1708e-03],\n",
       "           [ 6.1932e-03,  1.6681e-03,  6.2842e-03,  ...,  6.6007e-03,\n",
       "             1.1199e-02, -6.9458e-03],\n",
       "           [ 1.0780e-02, -5.1924e-04, -4.3027e-03,  ..., -3.4764e-03,\n",
       "             1.1366e-03,  3.8616e-03],\n",
       "           ...,\n",
       "           [-2.4093e-03, -2.7690e-03,  1.5139e-03,  ...,  2.7476e-03,\n",
       "             4.2156e-03, -1.4338e-03],\n",
       "           [ 3.6778e-03, -3.4469e-03, -1.5692e-03,  ..., -1.9033e-03,\n",
       "            -8.8395e-03,  3.4421e-03],\n",
       "           [ 1.3382e-02, -1.0740e-02, -9.4122e-04,  ...,  3.4632e-03,\n",
       "            -8.6235e-03,  4.4845e-03]],\n",
       " \n",
       "          [[-5.9975e-04,  5.4041e-03,  8.1384e-04,  ...,  1.1055e-02,\n",
       "            -1.7162e-03, -1.5522e-03],\n",
       "           [ 2.0062e-03, -1.0415e-02,  7.1314e-03,  ...,  6.2362e-03,\n",
       "             4.0061e-03, -6.8728e-03],\n",
       "           [-1.9600e-04,  5.4017e-03, -9.2338e-03,  ...,  9.2723e-03,\n",
       "             1.0152e-02, -6.1111e-03],\n",
       "           ...,\n",
       "           [ 1.8313e-02, -2.9994e-03, -2.9238e-03,  ..., -1.1333e-02,\n",
       "             3.0471e-03,  1.0619e-03],\n",
       "           [ 5.6002e-04,  3.6058e-03, -5.2573e-03,  ...,  1.0045e-02,\n",
       "            -2.0905e-03, -2.7551e-03],\n",
       "           [-5.6278e-03, -1.7543e-03, -1.1276e-02,  ...,  2.6985e-03,\n",
       "            -2.2024e-03,  5.6290e-03]]],\n",
       " \n",
       " \n",
       "         [[[ 1.5995e-03,  6.3185e-03,  2.7941e-03,  ...,  1.7748e-03,\n",
       "            -4.8984e-03, -3.7827e-03],\n",
       "           [-1.4532e-02,  1.6742e-03,  9.4541e-04,  ...,  3.1137e-03,\n",
       "            -6.9798e-04,  7.3363e-03],\n",
       "           [ 3.8418e-03, -8.1728e-04,  6.7412e-03,  ..., -1.1523e-02,\n",
       "            -4.9814e-03,  3.6551e-03],\n",
       "           ...,\n",
       "           [-8.6230e-03, -9.8744e-04,  2.6754e-03,  ...,  2.3499e-03,\n",
       "             1.5530e-03,  1.4442e-02],\n",
       "           [-2.8383e-03, -4.5094e-03, -1.2806e-03,  ...,  2.5990e-03,\n",
       "             1.1924e-02, -5.1813e-03],\n",
       "           [ 2.7430e-03, -1.0115e-02, -3.0040e-04,  ..., -3.8762e-03,\n",
       "             5.1425e-03,  1.2563e-02]],\n",
       " \n",
       "          [[ 1.4172e-02,  2.0943e-03,  2.0580e-04,  ...,  3.2533e-03,\n",
       "            -1.5391e-03, -5.7218e-03],\n",
       "           [-6.9381e-03,  9.3679e-03,  1.4796e-02,  ...,  1.6649e-03,\n",
       "             1.2438e-03,  3.6200e-03],\n",
       "           [ 5.2737e-03, -9.4947e-03,  1.7049e-03,  ..., -5.2470e-03,\n",
       "            -6.7232e-04,  1.2161e-03],\n",
       "           ...,\n",
       "           [-7.8570e-03,  5.0458e-03, -3.9195e-03,  ...,  5.1079e-03,\n",
       "             9.7911e-04,  8.6234e-04],\n",
       "           [-4.8465e-03,  6.1172e-03, -2.1628e-03,  ...,  3.8367e-03,\n",
       "            -5.0970e-03,  8.0196e-03],\n",
       "           [-9.5898e-03,  4.2818e-03,  1.1905e-03,  ..., -5.5658e-03,\n",
       "            -2.2830e-03,  9.5922e-03]]],\n",
       " \n",
       " \n",
       "         [[[ 1.1796e-03,  7.3614e-04, -6.2738e-03,  ...,  5.6581e-03,\n",
       "             1.6858e-04,  9.4403e-04],\n",
       "           [-1.7497e-03, -4.8997e-03, -9.2800e-04,  ..., -4.2955e-03,\n",
       "            -4.5093e-03,  3.5624e-04],\n",
       "           [-6.6802e-03,  9.8534e-03, -6.5625e-04,  ..., -1.8111e-03,\n",
       "             2.9838e-05, -7.9131e-03],\n",
       "           ...,\n",
       "           [-1.0865e-03, -9.7973e-03,  5.0995e-03,  ..., -4.7006e-03,\n",
       "            -1.0563e-03, -7.0530e-03],\n",
       "           [-1.5536e-03,  1.4515e-03, -1.2276e-03,  ..., -1.5973e-02,\n",
       "             9.9330e-03, -3.6204e-03],\n",
       "           [ 5.2043e-03,  3.0624e-03, -1.1862e-03,  ...,  2.2240e-03,\n",
       "             7.5777e-03,  8.7353e-03]],\n",
       " \n",
       "          [[-1.3618e-02,  4.1656e-03, -3.9520e-03,  ..., -5.4187e-04,\n",
       "             2.7676e-03,  2.8196e-03],\n",
       "           [ 1.0804e-02, -1.0752e-02,  1.3673e-03,  ...,  6.0024e-03,\n",
       "             3.9971e-03, -1.2722e-02],\n",
       "           [-6.1297e-03, -3.4321e-03,  5.6664e-03,  ...,  5.2904e-04,\n",
       "            -4.7575e-03, -6.3407e-04],\n",
       "           ...,\n",
       "           [-7.5335e-03,  4.4764e-03,  1.1144e-03,  ..., -4.2400e-03,\n",
       "            -3.6575e-03,  1.0107e-02],\n",
       "           [-2.8169e-04, -2.1852e-03,  1.6631e-03,  ...,  2.1240e-03,\n",
       "            -2.7077e-03,  4.2397e-03],\n",
       "           [ 6.7510e-03,  6.5594e-03, -3.0786e-03,  ..., -1.9550e-03,\n",
       "            -4.7711e-03, -2.4976e-03]]]]))"
      ]
     },
     "execution_count": 45,
     "metadata": {},
     "output_type": "execute_result"
    }
   ],
   "source": [
    "run_sims(partial(sim_test.get_image, output = 'torch'), prior, 50)"
   ]
  },
  {
   "cell_type": "code",
   "execution_count": 44,
   "metadata": {},
   "outputs": [
    {
     "name": "stderr",
     "output_type": "stream",
     "text": [
      "100%|██████████| 500/500 [00:25<00:00, 22.10it/s]\n"
     ]
    },
    {
     "ename": "TypeError",
     "evalue": "stack(): argument 'tensors' (position 1) must be tuple of Tensors, not numpy.ndarray",
     "output_type": "error",
     "traceback": [
      "\u001b[0;31m---------------------------------------------------------------------------\u001b[0m",
      "\u001b[0;31mTypeError\u001b[0m                                 Traceback (most recent call last)",
      "\u001b[1;32m/Users/timothymiller/Documents/research/packages/silkscreen/docs/testing.ipynb Cell 8\u001b[0m line \u001b[0;36m1\n\u001b[0;32m----> <a href='vscode-notebook-cell:/Users/timothymiller/Documents/research/packages/silkscreen/docs/testing.ipynb#X24sZmlsZQ%3D%3D?line=0'>1</a>\u001b[0m run_sims_mpire(sim_test\u001b[39m.\u001b[39;49mget_image, prior, \u001b[39m500\u001b[39;49m, n_jobs\u001b[39m=\u001b[39;49m\u001b[39m1\u001b[39;49m)\n",
      "\u001b[1;32m/Users/timothymiller/Documents/research/packages/silkscreen/docs/testing.ipynb Cell 8\u001b[0m line \u001b[0;36m6\n\u001b[1;32m      <a href='vscode-notebook-cell:/Users/timothymiller/Documents/research/packages/silkscreen/docs/testing.ipynb#X24sZmlsZQ%3D%3D?line=3'>4</a>\u001b[0m \u001b[39mwith\u001b[39;00m mpire\u001b[39m.\u001b[39mWorkerPool(n_jobs\u001b[39m=\u001b[39mn_jobs) \u001b[39mas\u001b[39;00m pool:\n\u001b[1;32m      <a href='vscode-notebook-cell:/Users/timothymiller/Documents/research/packages/silkscreen/docs/testing.ipynb#X24sZmlsZQ%3D%3D?line=4'>5</a>\u001b[0m     x \u001b[39m=\u001b[39m pool\u001b[39m.\u001b[39mmap(to_mpire, theta, progress_bar \u001b[39m=\u001b[39m \u001b[39mTrue\u001b[39;00m)\n\u001b[0;32m----> <a href='vscode-notebook-cell:/Users/timothymiller/Documents/research/packages/silkscreen/docs/testing.ipynb#X24sZmlsZQ%3D%3D?line=5'>6</a>\u001b[0m x \u001b[39m=\u001b[39m torch\u001b[39m.\u001b[39;49mstack(x)\n\u001b[1;32m      <a href='vscode-notebook-cell:/Users/timothymiller/Documents/research/packages/silkscreen/docs/testing.ipynb#X24sZmlsZQ%3D%3D?line=6'>7</a>\u001b[0m \u001b[39mreturn\u001b[39;00m theta,x\n",
      "\u001b[0;31mTypeError\u001b[0m: stack(): argument 'tensors' (position 1) must be tuple of Tensors, not numpy.ndarray"
     ]
    }
   ],
   "source": [
    "run_sims_mpire(sim_test.get_image, prior, 500, n_jobs=1)"
   ]
  },
  {
   "cell_type": "code",
   "execution_count": 17,
   "metadata": {},
   "outputs": [
    {
     "data": {
      "text/plain": [
       "(238,)"
      ]
     },
     "execution_count": 17,
     "metadata": {},
     "output_type": "execute_result"
    }
   ],
   "source": [
    "sim_test.iso_list[0].isocmds[0].shape"
   ]
  },
  {
   "cell_type": "code",
   "execution_count": 7,
   "metadata": {},
   "outputs": [
    {
     "name": "stdout",
     "output_type": "stream",
     "text": [
      "1.66 s ± 179 ms per loop (mean ± std. dev. of 7 runs, 1 loop each)\n"
     ]
    }
   ],
   "source": [
    "%%timeit \n",
    "iso = sim_test.build_ssp(4,0.11,-1,9)"
   ]
  },
  {
   "cell_type": "code",
   "execution_count": 6,
   "metadata": {},
   "outputs": [
    {
     "data": {
      "text/plain": [
       "<matplotlib.image.AxesImage at 0x7ffb06caafd0>"
      ]
     },
     "execution_count": 6,
     "metadata": {},
     "output_type": "execute_result"
    },
    {
     "data": {
      "image/png": "[encoded data removed]",
      "text/plain": [
       "<Figure size 432x288 with 1 Axes>"
      ]
     },
     "metadata": {
      "needs_background": "light"
     },
     "output_type": "display_data"
    }
   ],
   "source": [
    "plt.imshow(sim_im[0])"
   ]
  }
 ],
 "metadata": {
  "kernelspec": {
   "display_name": "Python 3.8.10 ('sbi_devel')",
   "language": "python",
   "name": "python3"
  },
  "language_info": {
   "codemirror_mode": {
    "name": "ipython",
    "version": 3
   },
   "file_extension": ".py",
   "mimetype": "text/x-python",
   "name": "python",
   "nbconvert_exporter": "python",
   "pygments_lexer": "ipython3",
   "version": "3.10.12"
  },
  "orig_nbformat": 4,
  "vscode": {
   "interpreter": {
    "hash": "035d05f8da03cbb55658e6f12b7e88fb8b9dea1b19f00965610237362fc2f7e2"
   }
  }
 },
 "nbformat": 4,
 "nbformat_minor": 2
}
